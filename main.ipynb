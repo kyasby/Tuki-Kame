{
  "nbformat": 4,
  "nbformat_minor": 0,
  "metadata": {
    "colab": {
      "name": "Untitled",
      "provenance": []
    },
    "kernelspec": {
      "name": "python3",
      "display_name": "Python 3"
    },
    "accelerator": "GPU"
  },
  "cells": [
    {
      "cell_type": "code",
      "metadata": {
        "id": "7yXQOBhkIyCR",
        "colab_type": "code",
        "colab": {}
      },
      "source": [
        "import copy\n",
        "import time\n",
        "import os\n",
        "\n",
        "import torchvision.transforms as transforms\n",
        "import torchvision.models as models\n",
        "import torchvision\n",
        "\n",
        "import torch.nn as nn\n",
        "import torch"
      ],
      "execution_count": 0,
      "outputs": []
    },
    {
      "cell_type": "code",
      "metadata": {
        "id": "9rJbA01-JymQ",
        "colab_type": "code",
        "colab": {}
      },
      "source": [
        "def load_data(data_folder, batch_size, phase='train', train_val_split=True, train_ratio=.2):\n",
        "    transform_dict = {\n",
        "        'train': transforms.Compose(\n",
        "            [transforms.Resize((256,256)),\n",
        "             transforms.RandomCrop(224),\n",
        "             transforms.RandomHorizontalFlip(),\n",
        "             transforms.ToTensor(),\n",
        "             transforms.Normalize(mean=[0.485, 0.456, 0.406],\n",
        "                                  std=[0.229, 0.224, 0.225]),\n",
        "             ]),\n",
        "        'test': transforms.Compose(\n",
        "            [transforms.Resize((256,256)),\n",
        "             transforms.ToTensor(),\n",
        "             transforms.Normalize(mean=[0.485, 0.456, 0.406],\n",
        "                                  std=[0.229, 0.224, 0.225]),\n",
        "             ])}\n",
        "\n",
        "    data = torchvision.datasets.ImageFolder(root=data_folder, transform=transform_dict[phase])\n",
        "\n",
        "    train_size = int(train_ratio * len(data))\n",
        "    test_size = len(data) - train_size\n",
        "    data_size = {\"train\":train_size, \"val\":test_size}\n",
        "\n",
        "    data_train, data_val = torch.utils.data.random_split(data, [train_size, test_size])\n",
        "    train_loader = torch.utils.data.DataLoader(data_train, batch_size=batch_size, shuffle=True, drop_last=True,\n",
        "                                            num_workers=1)\n",
        "    val_loader = torch.utils.data.DataLoader(data_val, batch_size=batch_size, shuffle=False, drop_last=False,\n",
        "                                        num_workers=1)\n",
        "    dataloaders={\"train\":train_loader, \"val\":val_loader}\n",
        "    return dataloaders, data_size\n"
      ],
      "execution_count": 0,
      "outputs": []
    },
    {
      "cell_type": "code",
      "metadata": {
        "id": "zaB9-z_TfcI8",
        "colab_type": "code",
        "colab": {}
      },
      "source": [
        "!unzip /content/pics.zip -d /content/data > /dev/null 2>&1 &"
      ],
      "execution_count": 0,
      "outputs": []
    },
    {
      "cell_type": "code",
      "metadata": {
        "id": "yCfiW51FfkQ8",
        "colab_type": "code",
        "colab": {}
      },
      "source": [
        "dataloaders, data_size = load_data(\"/content/data/pics\", 8)"
      ],
      "execution_count": 0,
      "outputs": []
    },
    {
      "cell_type": "code",
      "metadata": {
        "id": "pnU6jJm77wsG",
        "colab_type": "code",
        "colab": {
          "base_uri": "https://localhost:8080/",
          "height": 128
        },
        "outputId": "cc53452d-a09d-4d69-f90c-5cd5d101ade4"
      },
      "source": [
        "def imshow(img):\n",
        "    img = img / 2 + 0.5     \n",
        "    npimg = img.numpy()\n",
        "    plt.imshow(np.transpose(npimg, (1, 2, 0)))\n",
        "    plt.show()\n",
        "\n",
        "import matplotlib.pyplot as plt\n",
        "import numpy as np\n",
        "# 訓練データをランダムに取得\n",
        "dataiter = iter(dataloaders[\"train\"])\n",
        "images, labels = dataiter.next()\n",
        "\n",
        "# 画像の表示\n",
        "\n",
        "imshow(torchvision.utils.make_grid(images))\n",
        "# ラベルの表示\n",
        "print(' '.join('%5s' % labels[labels[j]] for j in range(8)))"
      ],
      "execution_count": 5,
      "outputs": [
        {
          "output_type": "stream",
          "text": [
            "Clipping input data to the valid range for imshow with RGB data ([0..1] for floats or [0..255] for integers).\n"
          ],
          "name": "stderr"
        },
        {
          "output_type": "display_data",
          "data": {
            "image/png": "[encoded data removed]",
            "text/plain": [
              "<Figure size 432x288 with 1 Axes>"
            ]
          },
          "metadata": {
            "tags": [],
            "needs_background": "light"
          }
        },
        {
          "output_type": "stream",
          "text": [
            "tensor(1) tensor(1) tensor(1) tensor(1) tensor(1) tensor(1) tensor(1) tensor(1)\n"
          ],
          "name": "stdout"
        }
      ]
    },
    {
      "cell_type": "code",
      "metadata": {
        "id": "uFKgCqts5z6x",
        "colab_type": "code",
        "colab": {}
      },
      "source": [
        "model = models.resnet18(pretrained=True)"
      ],
      "execution_count": 0,
      "outputs": []
    },
    {
      "cell_type": "code",
      "metadata": {
        "id": "zEDffsSgjvAR",
        "colab_type": "code",
        "colab": {}
      },
      "source": [
        "for p in model.parameters():\n",
        "    p.requires_grad=True\n",
        "model.fc = nn.Linear(512, 2)"
      ],
      "execution_count": 0,
      "outputs": []
    },
    {
      "cell_type": "code",
      "metadata": {
        "id": "qlEVBCKvJujD",
        "colab_type": "code",
        "colab": {}
      },
      "source": [
        "model = model.cuda()#GPUを使用しない場合はこの行はいらない。\n",
        "lr = 1e-4\n",
        "epoch = 40\n",
        "optim = torch.optim.Adam(model.parameters(), lr=lr, weight_decay=1e-4)\n",
        "criterion = nn.CrossEntropyLoss().cuda() "
      ],
      "execution_count": 0,
      "outputs": []
    },
    {
      "cell_type": "code",
      "metadata": {
        "id": "fxJohCtir8Lj",
        "colab_type": "code",
        "colab": {
          "base_uri": "https://localhost:8080/",
          "height": 34
        },
        "outputId": "6dbb529d-4c6a-480c-cb35-a8fe72dc56d5"
      },
      "source": [
        "torch.cuda.is_available()"
      ],
      "execution_count": 9,
      "outputs": [
        {
          "output_type": "execute_result",
          "data": {
            "text/plain": [
              "True"
            ]
          },
          "metadata": {
            "tags": []
          },
          "execution_count": 9
        }
      ]
    },
    {
      "cell_type": "code",
      "metadata": {
        "id": "AkCFB9CwKB64",
        "colab_type": "code",
        "colab": {}
      },
      "source": [
        "use_gpu = torch.cuda.is_available()\n",
        "\n",
        "def train_model(model, criterion, optimizer, scheduler=None, num_epochs=25):\n",
        "    since = time.time()\n",
        "    \n",
        "    best_model_wts = copy.deepcopy(model.state_dict())\n",
        "    best_acc = 0.0\n",
        "\n",
        "    loss_dict ={\"train\" : [],  \"val\" : []}\n",
        "    acc_dict = {\"train\" : [],  \"val\" : []}\n",
        "    for epoch in range(num_epochs):\n",
        "        print('Epoch {}/{}'.format(epoch, num_epochs))\n",
        "        print('-' * 10)\n",
        "        \n",
        "        # 各エポックで訓練+バリデーションを実行\n",
        "        for phase in ['train', 'val']:\n",
        "            if phase == 'train':\n",
        "                #scheduler.step()\n",
        "                model.train(True)   # training mode\n",
        "            else:\n",
        "                model.train(False)  # evaluate mode\n",
        "            \n",
        "            running_loss = 0.0\n",
        "            running_corrects = 0\n",
        "            \n",
        "            for data in dataloaders[phase]:\n",
        "                inputs, labels = data\n",
        "                \n",
        "                if use_gpu:\n",
        "                    inputs = inputs.cuda()\n",
        "                    labels = labels.cuda()\n",
        "                # else:\n",
        "                #     inputs, labels = Variable(inputs), Variable(labels)\n",
        "                \n",
        "                optimizer.zero_grad()\n",
        "\n",
        "                # forward\n",
        "                outputs = model(inputs)\n",
        "                _, preds = torch.max(outputs.data, 1)\n",
        "                loss = criterion(outputs, labels)\n",
        "\n",
        "                if phase == 'train':\n",
        "                    loss.backward()\n",
        "                    optimizer.step()\n",
        "                \n",
        "                # statistics\n",
        "                running_loss += loss.item() * inputs.size(0)\n",
        "                running_corrects += torch.sum(preds == labels)\n",
        "\n",
        "\n",
        "            # サンプル数で割って平均を求める\n",
        "            epoch_loss = running_loss / data_size[phase]\n",
        "            epoch_acc = running_corrects.item() / data_size[phase]\n",
        "            loss_dict[phase].append(epoch_loss)\n",
        "            acc_dict[phase].append(epoch_acc)\n",
        "\n",
        "            print('{} Loss: {:.4f} Acc: {:.4f}'.format(phase, epoch_loss, epoch_acc))\n",
        "            \n",
        "            # deep copy the model\n",
        "            # 精度が改善したらモデルを保存する\n",
        "            if phase == 'val' and epoch_acc > best_acc:\n",
        "                best_acc = epoch_acc\n",
        "                best_model_wts = copy.deepcopy(model.state_dict())\n",
        "        \n",
        "    \n",
        "    time_elapsed = time.time() - since\n",
        "    print('Training complete in {:.0f}m {:.0f}s'.format(time_elapsed // 60, time_elapsed % 60))\n",
        "    print('Best val acc: {:.4f}'.format(best_acc))\n",
        "    \n",
        "    # load best model weights\n",
        "    model.load_state_dict(best_model_wts)\n",
        "    return model, loss_dict, acc_dict"
      ],
      "execution_count": 0,
      "outputs": []
    },
    {
      "cell_type": "code",
      "metadata": {
        "id": "kHF8IBBWr7P3",
        "colab_type": "code",
        "colab": {
          "base_uri": "https://localhost:8080/",
          "height": 1000
        },
        "outputId": "e07384b0-17a4-4ac2-e3e7-0f8ce0b959a8"
      },
      "source": [
        "model_ft, loss, acc = train_model(model, criterion, optim, num_epochs=epoch)"
      ],
      "execution_count": 11,
      "outputs": [
        {
          "output_type": "stream",
          "text": [
            "Epoch 0/40\n",
            "----------\n",
            "train Loss: 0.5977 Acc: 0.4643\n"
          ],
          "name": "stdout"
        },
        {
          "output_type": "stream",
          "text": [
            "/usr/local/lib/python3.6/dist-packages/PIL/Image.py:932: UserWarning: Palette images with Transparency expressed in bytes should be converted to RGBA images\n",
            "  \"Palette images with Transparency expressed in bytes should be \"\n"
          ],
          "name": "stderr"
        },
        {
          "output_type": "stream",
          "text": [
            "val Loss: 0.2504 Acc: 0.9474\n",
            "Epoch 1/40\n",
            "----------\n",
            "train Loss: 0.2041 Acc: 0.7857\n"
          ],
          "name": "stdout"
        },
        {
          "output_type": "stream",
          "text": [
            "/usr/local/lib/python3.6/dist-packages/PIL/Image.py:932: UserWarning: Palette images with Transparency expressed in bytes should be converted to RGBA images\n",
            "  \"Palette images with Transparency expressed in bytes should be \"\n"
          ],
          "name": "stderr"
        },
        {
          "output_type": "stream",
          "text": [
            "val Loss: 0.0911 Acc: 0.9825\n",
            "Epoch 2/40\n",
            "----------\n",
            "train Loss: 0.0280 Acc: 0.8571\n"
          ],
          "name": "stdout"
        },
        {
          "output_type": "stream",
          "text": [
            "/usr/local/lib/python3.6/dist-packages/PIL/Image.py:932: UserWarning: Palette images with Transparency expressed in bytes should be converted to RGBA images\n",
            "  \"Palette images with Transparency expressed in bytes should be \"\n"
          ],
          "name": "stderr"
        },
        {
          "output_type": "stream",
          "text": [
            "val Loss: 0.0352 Acc: 0.9825\n",
            "Epoch 3/40\n",
            "----------\n",
            "train Loss: 0.0384 Acc: 0.8571\n"
          ],
          "name": "stdout"
        },
        {
          "output_type": "stream",
          "text": [
            "/usr/local/lib/python3.6/dist-packages/PIL/Image.py:932: UserWarning: Palette images with Transparency expressed in bytes should be converted to RGBA images\n",
            "  \"Palette images with Transparency expressed in bytes should be \"\n"
          ],
          "name": "stderr"
        },
        {
          "output_type": "stream",
          "text": [
            "val Loss: 0.0228 Acc: 0.9912\n",
            "Epoch 4/40\n",
            "----------\n",
            "train Loss: 0.0060 Acc: 0.8571\n"
          ],
          "name": "stdout"
        },
        {
          "output_type": "stream",
          "text": [
            "/usr/local/lib/python3.6/dist-packages/PIL/Image.py:932: UserWarning: Palette images with Transparency expressed in bytes should be converted to RGBA images\n",
            "  \"Palette images with Transparency expressed in bytes should be \"\n"
          ],
          "name": "stderr"
        },
        {
          "output_type": "stream",
          "text": [
            "val Loss: 0.0216 Acc: 0.9912\n",
            "Epoch 5/40\n",
            "----------\n",
            "train Loss: 0.0046 Acc: 0.8571\n"
          ],
          "name": "stdout"
        },
        {
          "output_type": "stream",
          "text": [
            "/usr/local/lib/python3.6/dist-packages/PIL/Image.py:932: UserWarning: Palette images with Transparency expressed in bytes should be converted to RGBA images\n",
            "  \"Palette images with Transparency expressed in bytes should be \"\n"
          ],
          "name": "stderr"
        },
        {
          "output_type": "stream",
          "text": [
            "val Loss: 0.0121 Acc: 1.0000\n",
            "Epoch 6/40\n",
            "----------\n",
            "train Loss: 0.0038 Acc: 0.8571\n"
          ],
          "name": "stdout"
        },
        {
          "output_type": "stream",
          "text": [
            "/usr/local/lib/python3.6/dist-packages/PIL/Image.py:932: UserWarning: Palette images with Transparency expressed in bytes should be converted to RGBA images\n",
            "  \"Palette images with Transparency expressed in bytes should be \"\n"
          ],
          "name": "stderr"
        },
        {
          "output_type": "stream",
          "text": [
            "val Loss: 0.0127 Acc: 1.0000\n",
            "Epoch 7/40\n",
            "----------\n",
            "train Loss: 0.0254 Acc: 0.8571\n"
          ],
          "name": "stdout"
        },
        {
          "output_type": "stream",
          "text": [
            "/usr/local/lib/python3.6/dist-packages/PIL/Image.py:932: UserWarning: Palette images with Transparency expressed in bytes should be converted to RGBA images\n",
            "  \"Palette images with Transparency expressed in bytes should be \"\n"
          ],
          "name": "stderr"
        },
        {
          "output_type": "stream",
          "text": [
            "val Loss: 0.0123 Acc: 1.0000\n",
            "Epoch 8/40\n",
            "----------\n",
            "train Loss: 0.0011 Acc: 0.8571\n"
          ],
          "name": "stdout"
        },
        {
          "output_type": "stream",
          "text": [
            "/usr/local/lib/python3.6/dist-packages/PIL/Image.py:932: UserWarning: Palette images with Transparency expressed in bytes should be converted to RGBA images\n",
            "  \"Palette images with Transparency expressed in bytes should be \"\n"
          ],
          "name": "stderr"
        },
        {
          "output_type": "stream",
          "text": [
            "val Loss: 0.0106 Acc: 1.0000\n",
            "Epoch 9/40\n",
            "----------\n",
            "train Loss: 0.0014 Acc: 0.8571\n"
          ],
          "name": "stdout"
        },
        {
          "output_type": "stream",
          "text": [
            "/usr/local/lib/python3.6/dist-packages/PIL/Image.py:932: UserWarning: Palette images with Transparency expressed in bytes should be converted to RGBA images\n",
            "  \"Palette images with Transparency expressed in bytes should be \"\n"
          ],
          "name": "stderr"
        },
        {
          "output_type": "stream",
          "text": [
            "val Loss: 0.0121 Acc: 1.0000\n",
            "Epoch 10/40\n",
            "----------\n",
            "train Loss: 0.0027 Acc: 0.8571\n"
          ],
          "name": "stdout"
        },
        {
          "output_type": "stream",
          "text": [
            "/usr/local/lib/python3.6/dist-packages/PIL/Image.py:932: UserWarning: Palette images with Transparency expressed in bytes should be converted to RGBA images\n",
            "  \"Palette images with Transparency expressed in bytes should be \"\n"
          ],
          "name": "stderr"
        },
        {
          "output_type": "stream",
          "text": [
            "val Loss: 0.0130 Acc: 1.0000\n",
            "Epoch 11/40\n",
            "----------\n",
            "train Loss: 0.0799 Acc: 0.8214\n"
          ],
          "name": "stdout"
        },
        {
          "output_type": "stream",
          "text": [
            "/usr/local/lib/python3.6/dist-packages/PIL/Image.py:932: UserWarning: Palette images with Transparency expressed in bytes should be converted to RGBA images\n",
            "  \"Palette images with Transparency expressed in bytes should be \"\n"
          ],
          "name": "stderr"
        },
        {
          "output_type": "stream",
          "text": [
            "val Loss: 0.0148 Acc: 1.0000\n",
            "Epoch 12/40\n",
            "----------\n",
            "train Loss: 0.0082 Acc: 0.8571\n"
          ],
          "name": "stdout"
        },
        {
          "output_type": "stream",
          "text": [
            "/usr/local/lib/python3.6/dist-packages/PIL/Image.py:932: UserWarning: Palette images with Transparency expressed in bytes should be converted to RGBA images\n",
            "  \"Palette images with Transparency expressed in bytes should be \"\n"
          ],
          "name": "stderr"
        },
        {
          "output_type": "stream",
          "text": [
            "val Loss: 0.0209 Acc: 1.0000\n",
            "Epoch 13/40\n",
            "----------\n",
            "train Loss: 0.0492 Acc: 0.8571\n"
          ],
          "name": "stdout"
        },
        {
          "output_type": "stream",
          "text": [
            "/usr/local/lib/python3.6/dist-packages/PIL/Image.py:932: UserWarning: Palette images with Transparency expressed in bytes should be converted to RGBA images\n",
            "  \"Palette images with Transparency expressed in bytes should be \"\n"
          ],
          "name": "stderr"
        },
        {
          "output_type": "stream",
          "text": [
            "val Loss: 0.0255 Acc: 0.9912\n",
            "Epoch 14/40\n",
            "----------\n",
            "train Loss: 0.0015 Acc: 0.8571\n"
          ],
          "name": "stdout"
        },
        {
          "output_type": "stream",
          "text": [
            "/usr/local/lib/python3.6/dist-packages/PIL/Image.py:932: UserWarning: Palette images with Transparency expressed in bytes should be converted to RGBA images\n",
            "  \"Palette images with Transparency expressed in bytes should be \"\n"
          ],
          "name": "stderr"
        },
        {
          "output_type": "stream",
          "text": [
            "val Loss: 0.0236 Acc: 1.0000\n",
            "Epoch 15/40\n",
            "----------\n",
            "train Loss: 0.0018 Acc: 0.8571\n"
          ],
          "name": "stdout"
        },
        {
          "output_type": "stream",
          "text": [
            "/usr/local/lib/python3.6/dist-packages/PIL/Image.py:932: UserWarning: Palette images with Transparency expressed in bytes should be converted to RGBA images\n",
            "  \"Palette images with Transparency expressed in bytes should be \"\n"
          ],
          "name": "stderr"
        },
        {
          "output_type": "stream",
          "text": [
            "val Loss: 0.0175 Acc: 1.0000\n",
            "Epoch 16/40\n",
            "----------\n",
            "train Loss: 0.0026 Acc: 0.8571\n"
          ],
          "name": "stdout"
        },
        {
          "output_type": "stream",
          "text": [
            "/usr/local/lib/python3.6/dist-packages/PIL/Image.py:932: UserWarning: Palette images with Transparency expressed in bytes should be converted to RGBA images\n",
            "  \"Palette images with Transparency expressed in bytes should be \"\n"
          ],
          "name": "stderr"
        },
        {
          "output_type": "stream",
          "text": [
            "val Loss: 0.0291 Acc: 0.9912\n",
            "Epoch 17/40\n",
            "----------\n",
            "train Loss: 0.0041 Acc: 0.8571\n"
          ],
          "name": "stdout"
        },
        {
          "output_type": "stream",
          "text": [
            "/usr/local/lib/python3.6/dist-packages/PIL/Image.py:932: UserWarning: Palette images with Transparency expressed in bytes should be converted to RGBA images\n",
            "  \"Palette images with Transparency expressed in bytes should be \"\n"
          ],
          "name": "stderr"
        },
        {
          "output_type": "stream",
          "text": [
            "val Loss: 0.0189 Acc: 1.0000\n",
            "Epoch 18/40\n",
            "----------\n",
            "train Loss: 0.0076 Acc: 0.8571\n"
          ],
          "name": "stdout"
        },
        {
          "output_type": "stream",
          "text": [
            "/usr/local/lib/python3.6/dist-packages/PIL/Image.py:932: UserWarning: Palette images with Transparency expressed in bytes should be converted to RGBA images\n",
            "  \"Palette images with Transparency expressed in bytes should be \"\n"
          ],
          "name": "stderr"
        },
        {
          "output_type": "stream",
          "text": [
            "val Loss: 0.0226 Acc: 0.9912\n",
            "Epoch 19/40\n",
            "----------\n",
            "train Loss: 0.0351 Acc: 0.8571\n"
          ],
          "name": "stdout"
        },
        {
          "output_type": "stream",
          "text": [
            "/usr/local/lib/python3.6/dist-packages/PIL/Image.py:932: UserWarning: Palette images with Transparency expressed in bytes should be converted to RGBA images\n",
            "  \"Palette images with Transparency expressed in bytes should be \"\n"
          ],
          "name": "stderr"
        },
        {
          "output_type": "stream",
          "text": [
            "val Loss: 0.0279 Acc: 0.9912\n",
            "Epoch 20/40\n",
            "----------\n",
            "train Loss: 0.0013 Acc: 0.8571\n"
          ],
          "name": "stdout"
        },
        {
          "output_type": "stream",
          "text": [
            "/usr/local/lib/python3.6/dist-packages/PIL/Image.py:932: UserWarning: Palette images with Transparency expressed in bytes should be converted to RGBA images\n",
            "  \"Palette images with Transparency expressed in bytes should be \"\n"
          ],
          "name": "stderr"
        },
        {
          "output_type": "stream",
          "text": [
            "val Loss: 0.0257 Acc: 0.9912\n",
            "Epoch 21/40\n",
            "----------\n",
            "train Loss: 0.0436 Acc: 0.8214\n"
          ],
          "name": "stdout"
        },
        {
          "output_type": "stream",
          "text": [
            "/usr/local/lib/python3.6/dist-packages/PIL/Image.py:932: UserWarning: Palette images with Transparency expressed in bytes should be converted to RGBA images\n",
            "  \"Palette images with Transparency expressed in bytes should be \"\n"
          ],
          "name": "stderr"
        },
        {
          "output_type": "stream",
          "text": [
            "val Loss: 0.0451 Acc: 0.9825\n",
            "Epoch 22/40\n",
            "----------\n",
            "train Loss: 0.0018 Acc: 0.8571\n"
          ],
          "name": "stdout"
        },
        {
          "output_type": "stream",
          "text": [
            "/usr/local/lib/python3.6/dist-packages/PIL/Image.py:932: UserWarning: Palette images with Transparency expressed in bytes should be converted to RGBA images\n",
            "  \"Palette images with Transparency expressed in bytes should be \"\n"
          ],
          "name": "stderr"
        },
        {
          "output_type": "stream",
          "text": [
            "val Loss: 0.0385 Acc: 0.9825\n",
            "Epoch 23/40\n",
            "----------\n",
            "train Loss: 0.1118 Acc: 0.8214\n"
          ],
          "name": "stdout"
        },
        {
          "output_type": "stream",
          "text": [
            "/usr/local/lib/python3.6/dist-packages/PIL/Image.py:932: UserWarning: Palette images with Transparency expressed in bytes should be converted to RGBA images\n",
            "  \"Palette images with Transparency expressed in bytes should be \"\n"
          ],
          "name": "stderr"
        },
        {
          "output_type": "stream",
          "text": [
            "val Loss: 0.0383 Acc: 0.9825\n",
            "Epoch 24/40\n",
            "----------\n",
            "train Loss: 0.0166 Acc: 0.8571\n"
          ],
          "name": "stdout"
        },
        {
          "output_type": "stream",
          "text": [
            "/usr/local/lib/python3.6/dist-packages/PIL/Image.py:932: UserWarning: Palette images with Transparency expressed in bytes should be converted to RGBA images\n",
            "  \"Palette images with Transparency expressed in bytes should be \"\n"
          ],
          "name": "stderr"
        },
        {
          "output_type": "stream",
          "text": [
            "val Loss: 0.0462 Acc: 0.9737\n",
            "Epoch 25/40\n",
            "----------\n",
            "train Loss: 0.0022 Acc: 0.8571\n"
          ],
          "name": "stdout"
        },
        {
          "output_type": "stream",
          "text": [
            "/usr/local/lib/python3.6/dist-packages/PIL/Image.py:932: UserWarning: Palette images with Transparency expressed in bytes should be converted to RGBA images\n",
            "  \"Palette images with Transparency expressed in bytes should be \"\n"
          ],
          "name": "stderr"
        },
        {
          "output_type": "stream",
          "text": [
            "val Loss: 0.0591 Acc: 0.9825\n",
            "Epoch 26/40\n",
            "----------\n",
            "train Loss: 0.0029 Acc: 0.8571\n"
          ],
          "name": "stdout"
        },
        {
          "output_type": "stream",
          "text": [
            "/usr/local/lib/python3.6/dist-packages/PIL/Image.py:932: UserWarning: Palette images with Transparency expressed in bytes should be converted to RGBA images\n",
            "  \"Palette images with Transparency expressed in bytes should be \"\n"
          ],
          "name": "stderr"
        },
        {
          "output_type": "stream",
          "text": [
            "val Loss: 0.0104 Acc: 0.9912\n",
            "Epoch 27/40\n",
            "----------\n",
            "train Loss: 0.0012 Acc: 0.8571\n"
          ],
          "name": "stdout"
        },
        {
          "output_type": "stream",
          "text": [
            "/usr/local/lib/python3.6/dist-packages/PIL/Image.py:932: UserWarning: Palette images with Transparency expressed in bytes should be converted to RGBA images\n",
            "  \"Palette images with Transparency expressed in bytes should be \"\n"
          ],
          "name": "stderr"
        },
        {
          "output_type": "stream",
          "text": [
            "val Loss: 0.0232 Acc: 0.9825\n",
            "Epoch 28/40\n",
            "----------\n",
            "train Loss: 0.0043 Acc: 0.8571\n"
          ],
          "name": "stdout"
        },
        {
          "output_type": "stream",
          "text": [
            "/usr/local/lib/python3.6/dist-packages/PIL/Image.py:932: UserWarning: Palette images with Transparency expressed in bytes should be converted to RGBA images\n",
            "  \"Palette images with Transparency expressed in bytes should be \"\n"
          ],
          "name": "stderr"
        },
        {
          "output_type": "stream",
          "text": [
            "val Loss: 0.0136 Acc: 0.9912\n",
            "Epoch 29/40\n",
            "----------\n",
            "train Loss: 0.0098 Acc: 0.8571\n"
          ],
          "name": "stdout"
        },
        {
          "output_type": "stream",
          "text": [
            "/usr/local/lib/python3.6/dist-packages/PIL/Image.py:932: UserWarning: Palette images with Transparency expressed in bytes should be converted to RGBA images\n",
            "  \"Palette images with Transparency expressed in bytes should be \"\n"
          ],
          "name": "stderr"
        },
        {
          "output_type": "stream",
          "text": [
            "val Loss: 0.0126 Acc: 0.9912\n",
            "Epoch 30/40\n",
            "----------\n",
            "train Loss: 0.0026 Acc: 0.8571\n"
          ],
          "name": "stdout"
        },
        {
          "output_type": "stream",
          "text": [
            "/usr/local/lib/python3.6/dist-packages/PIL/Image.py:932: UserWarning: Palette images with Transparency expressed in bytes should be converted to RGBA images\n",
            "  \"Palette images with Transparency expressed in bytes should be \"\n"
          ],
          "name": "stderr"
        },
        {
          "output_type": "stream",
          "text": [
            "val Loss: 0.0106 Acc: 1.0000\n",
            "Epoch 31/40\n",
            "----------\n",
            "train Loss: 0.0028 Acc: 0.8571\n"
          ],
          "name": "stdout"
        },
        {
          "output_type": "stream",
          "text": [
            "/usr/local/lib/python3.6/dist-packages/PIL/Image.py:932: UserWarning: Palette images with Transparency expressed in bytes should be converted to RGBA images\n",
            "  \"Palette images with Transparency expressed in bytes should be \"\n"
          ],
          "name": "stderr"
        },
        {
          "output_type": "stream",
          "text": [
            "val Loss: 0.0109 Acc: 1.0000\n",
            "Epoch 32/40\n",
            "----------\n",
            "train Loss: 0.0013 Acc: 0.8571\n"
          ],
          "name": "stdout"
        },
        {
          "output_type": "stream",
          "text": [
            "/usr/local/lib/python3.6/dist-packages/PIL/Image.py:932: UserWarning: Palette images with Transparency expressed in bytes should be converted to RGBA images\n",
            "  \"Palette images with Transparency expressed in bytes should be \"\n"
          ],
          "name": "stderr"
        },
        {
          "output_type": "stream",
          "text": [
            "val Loss: 0.0109 Acc: 1.0000\n",
            "Epoch 33/40\n",
            "----------\n",
            "train Loss: 0.0922 Acc: 0.7857\n"
          ],
          "name": "stdout"
        },
        {
          "output_type": "stream",
          "text": [
            "/usr/local/lib/python3.6/dist-packages/PIL/Image.py:932: UserWarning: Palette images with Transparency expressed in bytes should be converted to RGBA images\n",
            "  \"Palette images with Transparency expressed in bytes should be \"\n"
          ],
          "name": "stderr"
        },
        {
          "output_type": "stream",
          "text": [
            "val Loss: 0.0096 Acc: 1.0000\n",
            "Epoch 34/40\n",
            "----------\n",
            "train Loss: 0.0006 Acc: 0.8571\n"
          ],
          "name": "stdout"
        },
        {
          "output_type": "stream",
          "text": [
            "/usr/local/lib/python3.6/dist-packages/PIL/Image.py:932: UserWarning: Palette images with Transparency expressed in bytes should be converted to RGBA images\n",
            "  \"Palette images with Transparency expressed in bytes should be \"\n"
          ],
          "name": "stderr"
        },
        {
          "output_type": "stream",
          "text": [
            "val Loss: 0.0123 Acc: 0.9912\n",
            "Epoch 35/40\n",
            "----------\n",
            "train Loss: 0.0019 Acc: 0.8571\n"
          ],
          "name": "stdout"
        },
        {
          "output_type": "stream",
          "text": [
            "/usr/local/lib/python3.6/dist-packages/PIL/Image.py:932: UserWarning: Palette images with Transparency expressed in bytes should be converted to RGBA images\n",
            "  \"Palette images with Transparency expressed in bytes should be \"\n"
          ],
          "name": "stderr"
        },
        {
          "output_type": "stream",
          "text": [
            "val Loss: 0.0241 Acc: 0.9825\n",
            "Epoch 36/40\n",
            "----------\n",
            "train Loss: 0.0003 Acc: 0.8571\n"
          ],
          "name": "stdout"
        },
        {
          "output_type": "stream",
          "text": [
            "/usr/local/lib/python3.6/dist-packages/PIL/Image.py:932: UserWarning: Palette images with Transparency expressed in bytes should be converted to RGBA images\n",
            "  \"Palette images with Transparency expressed in bytes should be \"\n"
          ],
          "name": "stderr"
        },
        {
          "output_type": "stream",
          "text": [
            "val Loss: 0.0236 Acc: 0.9912\n",
            "Epoch 37/40\n",
            "----------\n",
            "train Loss: 0.0005 Acc: 0.8571\n"
          ],
          "name": "stdout"
        },
        {
          "output_type": "stream",
          "text": [
            "/usr/local/lib/python3.6/dist-packages/PIL/Image.py:932: UserWarning: Palette images with Transparency expressed in bytes should be converted to RGBA images\n",
            "  \"Palette images with Transparency expressed in bytes should be \"\n"
          ],
          "name": "stderr"
        },
        {
          "output_type": "stream",
          "text": [
            "val Loss: 0.0086 Acc: 1.0000\n",
            "Epoch 38/40\n",
            "----------\n",
            "train Loss: 0.0269 Acc: 0.8571\n"
          ],
          "name": "stdout"
        },
        {
          "output_type": "stream",
          "text": [
            "/usr/local/lib/python3.6/dist-packages/PIL/Image.py:932: UserWarning: Palette images with Transparency expressed in bytes should be converted to RGBA images\n",
            "  \"Palette images with Transparency expressed in bytes should be \"\n"
          ],
          "name": "stderr"
        },
        {
          "output_type": "stream",
          "text": [
            "val Loss: 0.0202 Acc: 0.9825\n",
            "Epoch 39/40\n",
            "----------\n",
            "train Loss: 0.0047 Acc: 0.8571\n"
          ],
          "name": "stdout"
        },
        {
          "output_type": "stream",
          "text": [
            "/usr/local/lib/python3.6/dist-packages/PIL/Image.py:932: UserWarning: Palette images with Transparency expressed in bytes should be converted to RGBA images\n",
            "  \"Palette images with Transparency expressed in bytes should be \"\n"
          ],
          "name": "stderr"
        },
        {
          "output_type": "stream",
          "text": [
            "val Loss: 0.0158 Acc: 0.9912\n",
            "Training complete in 0m 56s\n",
            "Best val acc: 1.0000\n"
          ],
          "name": "stdout"
        }
      ]
    },
    {
      "cell_type": "code",
      "metadata": {
        "id": "oFSuUA7dvS5Y",
        "colab_type": "code",
        "colab": {
          "base_uri": "https://localhost:8080/",
          "height": 369
        },
        "outputId": "97667cc7-2219-4782-c565-21cd5195a64b"
      },
      "source": [
        "#loss, accを取り出します。\n",
        "loss_train = loss[\"train\"]\n",
        "loss_val    = loss[\"val\"]\n",
        "\n",
        "acc_train = acc[\"train\"]\n",
        "acc_val    = acc[\"val\"]\n",
        "\n",
        "\n",
        "#このように書く事で、nrows x cols のグラフを作成する事ができます。\n",
        "fig, axes = plt.subplots(nrows=1, ncols=2, figsize=(10,5))\n",
        "\n",
        "#０個目のグラフ\n",
        "axes[0].plot(range(epoch), loss_train, label = \"train\")\n",
        "axes[0].plot(range(epoch), loss_val,    label =  \"val\")\n",
        "axes[0].set_title(\"Loss\")\n",
        "axes[0].legend()#各グラフのlabelを表示\n",
        "\n",
        "#１個目のグラフ\n",
        "axes[1].plot(range(epoch), acc_train, label = \"train\")\n",
        "axes[1].plot(range(epoch), acc_val,    label =  \"val\")\n",
        "axes[1].set_title(\"Acc\")\n",
        "axes[1].legend()\n",
        "\n",
        "#０個目と１個目のグラフが重ならないように調整\n",
        "fig.tight_layout()\n"
      ],
      "execution_count": 15,
      "outputs": [
        {
          "output_type": "display_data",
          "data": {
            "image/png": "[encoded data removed]",
            "text/plain": [
              "<Figure size 720x360 with 2 Axes>"
            ]
          },
          "metadata": {
            "tags": [],
            "needs_background": "light"
          }
        }
      ]
    },
    {
      "cell_type": "markdown",
      "metadata": {
        "id": "-vhlk61PphwU",
        "colab_type": "text"
      },
      "source": [
        ""
      ]
    },
    {
      "cell_type": "code",
      "metadata": {
        "id": "mHpFZ41pEfDs",
        "colab_type": "code",
        "colab": {
          "base_uri": "https://localhost:8080/",
          "height": 369
        },
        "outputId": "1a54afb5-e386-49f0-839b-6aa8ac63b6ae"
      },
      "source": [
        "loss_train = loss[\"train\"]\n",
        "loss_val    = loss[\"val\"]\n",
        "\n",
        "acc_train = acc[\"train\"]\n",
        "acc_val    = acc[\"val\"]\n",
        "\n",
        "fig, axes = plt.subplots(nrows=2, ncols=2, figsize=(10,5))\n",
        "axes[0,0].plot(range(epoch), loss_train, label = \"train\")\n",
        "axes[0,0].plot(range(epoch), loss_val,    label =  \"val\")\n",
        "axes[0,0].set_title(\"Loss\")\n",
        "axes[0,0].legend()\n",
        "\n",
        "axes[0,1].plot(range(epoch), acc_train, c=\"red\",  label = \"train\")\n",
        "axes[0,1].plot(range(epoch), acc_val,    c=\"pink\", label =  \"val\")\n",
        "axes[0,1].set_title(\"Train Loss\")\n",
        "axes[0,1].legend()\n",
        "\n",
        "x = np.random.rand(100)\n",
        "xx = np.random.rand(200)\n",
        "axes[1,0].hist(xx, bins=25, label=\"xx\")\n",
        "axes[1,0].hist(x, bins=50,   label=\"x\")\n",
        "axes[1,0].set_title(\"histgram\")\n",
        "\n",
        "y = np.random.randn(100)\n",
        "z = np.random.randn(100)\n",
        "axes[1,1].scatter(y, z, alpha=0.8, label=\"y,z\") \n",
        "axes[1,1].scatter(z, y, alpha=0.8, label=\"z,y\")\n",
        "axes[1,1].set_title(\"Scatter\")\n",
        "axes[1,1].legend()\n",
        "\n",
        "fig.tight_layout()"
      ],
      "execution_count": 25,
      "outputs": [
        {
          "output_type": "display_data",
          "data": {
            "image/png": "[encoded data removed]",
            "text/plain": [
              "<Figure size 720x360 with 4 Axes>"
            ]
          },
          "metadata": {
            "tags": [],
            "needs_background": "light"
          }
        }
      ]
    },
    {
      "cell_type": "code",
      "metadata": {
        "id": "rHz3FVrIFn5O",
        "colab_type": "code",
        "colab": {
          "base_uri": "https://localhost:8080/",
          "height": 357
        },
        "outputId": "9792cc3f-4df8-4f2b-a677-d71e12364d09"
      },
      "source": [
        "y"
      ],
      "execution_count": 14,
      "outputs": [
        {
          "output_type": "execute_result",
          "data": {
            "text/plain": [
              "array([-1.73056025, -0.914501  ,  0.40750676,  1.57399546, -0.88876111,\n",
              "        1.26434279, -0.66021591,  1.22571782, -0.56470821, -0.06990092,\n",
              "       -1.9868527 , -0.69078942, -0.91380733,  0.2906317 ,  1.07092289,\n",
              "        1.45721549,  0.01827156,  0.29306453,  2.37803684,  1.08714187,\n",
              "       -0.93440547,  1.06115544,  1.94857641,  1.22374438,  0.57154784,\n",
              "       -1.66034531,  0.74040895, -1.62828122,  0.1427106 ,  0.17190586,\n",
              "        0.59282367, -0.23912574, -1.40708906, -0.27197408,  0.02305117,\n",
              "        0.45597884, -0.28954692,  0.73526445, -0.8949195 , -1.09702754,\n",
              "        1.16428911,  1.04504604,  0.87244613,  0.37521199, -0.80094634,\n",
              "        0.78040246,  0.07034112, -1.38136298,  0.46188444, -1.27114563,\n",
              "       -0.74206728, -0.45278045,  1.95810063, -0.4508313 ,  1.88139677,\n",
              "        0.70187759, -1.52903695,  0.58679574, -0.07768516,  0.6975425 ,\n",
              "       -0.51712571,  1.73010866,  0.16466539, -0.13947438, -0.78415087,\n",
              "       -0.31682152, -0.61425003, -0.10576074,  0.40525641, -0.61094852,\n",
              "       -0.3322996 , -1.13523176, -0.60308487,  1.75328892, -1.1076153 ,\n",
              "        0.96711916, -0.56354319, -0.34789647,  0.10262909,  0.67396107,\n",
              "       -1.49512193,  0.63256459,  2.19768594,  1.16543712, -1.10267635,\n",
              "        0.54087479,  0.40378173,  0.16212739,  0.13631274, -1.5058437 ,\n",
              "        1.04316867, -0.33111744, -1.00309914, -1.95021892,  0.9957911 ,\n",
              "        0.92286912, -1.39074779,  2.00100036, -0.02393062, -0.24534949])"
            ]
          },
          "metadata": {
            "tags": []
          },
          "execution_count": 14
        }
      ]
    },
    {
      "cell_type": "code",
      "metadata": {
        "id": "TB1FuPspskeJ",
        "colab_type": "code",
        "colab": {}
      },
      "source": [
        ""
      ],
      "execution_count": 0,
      "outputs": []
    }
  ]
}